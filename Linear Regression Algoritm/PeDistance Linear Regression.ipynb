{
 "cells": [
  {
   "cell_type": "markdown",
   "metadata": {},
   "source": [
    "# PeDistance Linear Regression"
   ]
  },
  {
   "cell_type": "markdown",
   "metadata": {},
   "source": [
    "### Initial settings"
   ]
  },
  {
   "cell_type": "code",
   "execution_count": 75,
   "metadata": {},
   "outputs": [],
   "source": [
    "import numpy as np\n",
    "import torch\n",
    "from torch import nn\n",
    "import pandas as pd\n",
    "from torch.utils.tensorboard import SummaryWriter\n",
    "    \n",
    "def get_device():\n",
    "    if torch.cuda.is_available():\n",
    "        device = torch.device('cuda:0')\n",
    "    else:\n",
    "        device = torch.device('cpu') # don't have GPU \n",
    "    return device\n",
    "\n",
    "# convert a df to tensor to be used in pytorch\n",
    "def df_to_tensor(df):\n",
    "    device = get_device()\n",
    "    return torch.tensor(df.to_numpy()).float().to(device)"
   ]
  },
  {
   "cell_type": "markdown",
   "metadata": {},
   "source": [
    "### Import Dataset"
   ]
  },
  {
   "cell_type": "code",
   "execution_count": 2,
   "metadata": {},
   "outputs": [],
   "source": [
    "fields = [\n",
    "    'Distance', \n",
    "    'PedTopLeftX', \n",
    "    'PedTopLeftY', \n",
    "    'PedTopRightX', \n",
    "    'PedTopRightY',\n",
    "    'PedBottomLeftX', \n",
    "    'PedBottomLeftY',\n",
    "    'PedBottomRightX',\n",
    "    'PedBottomRightY'\n",
    "]\n",
    "\n",
    "df = pd.read_csv (r'./Dataset.csv', usecols=fields)"
   ]
  },
  {
   "cell_type": "code",
   "execution_count": 63,
   "metadata": {},
   "outputs": [
    {
     "name": "stdout",
     "output_type": "stream",
     "text": [
      "(150, 9)\n"
     ]
    }
   ],
   "source": [
    "print(df.shape)"
   ]
  },
  {
   "cell_type": "markdown",
   "metadata": {},
   "source": [
    "### Parsing raw dataset data"
   ]
  },
  {
   "cell_type": "code",
   "execution_count": 65,
   "metadata": {},
   "outputs": [
    {
     "name": "stdout",
     "output_type": "stream",
     "text": [
      "(150,)\n"
     ]
    }
   ],
   "source": [
    "Y_target = df.Distance\n",
    "print(Y_target.shape)"
   ]
  },
  {
   "cell_type": "code",
   "execution_count": 70,
   "metadata": {},
   "outputs": [
    {
     "name": "stdout",
     "output_type": "stream",
     "text": [
      "     width  height\n",
      "0     62.0   187.0\n",
      "1     65.0   138.0\n",
      "2    159.0   420.0\n",
      "3     97.0   203.0\n",
      "4     49.0   121.0\n",
      "..     ...     ...\n",
      "145  155.0   395.0\n",
      "146  157.0   380.0\n",
      "147   50.0   150.0\n",
      "148   55.0   131.0\n",
      "149   52.0   129.0\n",
      "\n",
      "[150 rows x 2 columns]\n"
     ]
    }
   ],
   "source": [
    "X_data = df.apply(lambda el :  pd.Series([abs(el.PedTopRightX - el.PedTopLeftX), abs(el.PedBottomLeftY - el.PedTopLeftY)], index=['width', 'height']), axis=1)\n",
    "print(X_data)"
   ]
  },
  {
   "cell_type": "markdown",
   "metadata": {},
   "source": [
    "### Splitting dataset"
   ]
  },
  {
   "cell_type": "code",
   "execution_count": 72,
   "metadata": {},
   "outputs": [
    {
     "name": "stdout",
     "output_type": "stream",
     "text": [
      "torch.Size([75, 2])\n",
      "torch.Size([75])\n",
      "\n",
      "torch.Size([75, 2])\n",
      "torch.Size([75])\n"
     ]
    }
   ],
   "source": [
    "X_training = df_to_tensor(X_data[:75])\n",
    "Y_training = df_to_tensor(Y_target[:75])\n",
    "\n",
    "X_testing = df_to_tensor(X_data[75:])\n",
    "Y_testing =  df_to_tensor(Y_target[75:])\n",
    "print(X_training.shape)\n",
    "print(Y_training.shape)\n",
    "print()\n",
    "print(X_testing.shape)\n",
    "print(Y_testing.shape)"
   ]
  },
  {
   "cell_type": "code",
   "execution_count": 73,
   "metadata": {},
   "outputs": [],
   "source": [
    "class LinearRegressor(nn.Module):\n",
    "    def __init__(self, in_size, out_size):\n",
    "        super(LinearRegressor, self).__init__()\n",
    "        self.linear = nn.Linear(in_size,out_size)\n",
    "    \n",
    "    def forward(self,x):\n",
    "        result = self.linear(x)\n",
    "        return result"
   ]
  },
  {
   "cell_type": "code",
   "execution_count": 85,
   "metadata": {},
   "outputs": [],
   "source": [
    "lr = 0.0001\n",
    "\n",
    "epochs = 200000\n",
    "\n",
    "writer = SummaryWriter('logs/linear_regressor_lr' + str(lr) + '_epochs' + str(epochs))\n",
    "\n",
    "#normalizzazione dei dati\n",
    "means = X_training.mean(0)\n",
    "stds = X_training.std(0)\n",
    "\n",
    "X_training_norm = (X_training-means)/stds\n",
    "X_testing_norm = (X_testing-means)/stds\n",
    "\n",
    "reg = LinearRegressor(2,1).cuda()\n",
    "criterion = nn.MSELoss()\n",
    "\n",
    "optimizer = torch.optim.SGD(reg.parameters(),lr=lr)\n",
    "\n",
    "for e in range(epochs):\n",
    "    reg.train()\n",
    "    output = reg(X_training_norm)\n",
    "    l = criterion(output.view(-1),Y_training)\n",
    "\n",
    "    writer.add_scalar('loss/train', l.item(), global_step=e)\n",
    "    \n",
    "    l.backward()\n",
    "    \n",
    "    optimizer.step()    \n",
    "    optimizer.zero_grad()\n",
    "    \n",
    "    reg.eval()\n",
    " \n",
    "    with torch.set_grad_enabled(False):\n",
    "        y_test = reg(X_testing_norm)\n",
    "        l = criterion(y_test.view(-1),Y_testing)\n",
    "        writer.add_scalar('loss/test', l.item(), global_step=e)"
   ]
  },
  {
   "cell_type": "code",
   "execution_count": null,
   "metadata": {},
   "outputs": [],
   "source": []
  }
 ],
 "metadata": {
  "kernelspec": {
   "display_name": "Python 3",
   "language": "python",
   "name": "python3"
  },
  "language_info": {
   "codemirror_mode": {
    "name": "ipython",
    "version": 3
   },
   "file_extension": ".py",
   "mimetype": "text/x-python",
   "name": "python",
   "nbconvert_exporter": "python",
   "pygments_lexer": "ipython3",
   "version": "3.8.5"
  }
 },
 "nbformat": 4,
 "nbformat_minor": 4
}
