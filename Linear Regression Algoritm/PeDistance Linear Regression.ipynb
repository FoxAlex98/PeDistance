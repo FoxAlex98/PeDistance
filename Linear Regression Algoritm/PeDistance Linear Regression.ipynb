{
 "cells": [
  {
   "cell_type": "markdown",
   "metadata": {},
   "source": [
    "# PeDistance Linear Regression"
   ]
  },
  {
   "cell_type": "code",
   "execution_count": 14,
   "metadata": {},
   "outputs": [
    {
     "name": "stdout",
     "output_type": "stream",
     "text": [
      "0      13.659012\n",
      "1      19.537920\n",
      "2       6.014757\n",
      "3      12.382139\n",
      "4      19.352587\n",
      "         ...    \n",
      "145     6.513113\n",
      "146     6.634655\n",
      "147    15.349739\n",
      "148    18.069414\n",
      "149    17.966396\n",
      "Name: Distance, Length: 150, dtype: float64\n",
      "0       [62.0, 187.0]\n",
      "1       [65.0, 138.0]\n",
      "2      [159.0, 420.0]\n",
      "3       [97.0, 203.0]\n",
      "4       [49.0, 121.0]\n",
      "            ...      \n",
      "145    [155.0, 395.0]\n",
      "146    [157.0, 380.0]\n",
      "147     [50.0, 150.0]\n",
      "148     [55.0, 131.0]\n",
      "149     [52.0, 129.0]\n",
      "Length: 150, dtype: object\n"
     ]
    }
   ],
   "source": [
    "import torch\n",
    "from torch import nn\n",
    "import pandas as pd"
   ]
  },
  {
   "cell_type": "markdown",
   "metadata": {},
   "source": [
    "### Import Dataset"
   ]
  },
  {
   "cell_type": "code",
   "execution_count": null,
   "metadata": {},
   "outputs": [],
   "source": [
    "fields = [\n",
    "    'Distance', \n",
    "    'PedTopLeftX', \n",
    "    'PedTopLeftY', \n",
    "    'PedTopRightX', \n",
    "    'PedTopRightY',\n",
    "    'PedBottomLeftX', \n",
    "    'PedBottomLeftY',\n",
    "    'PedBottomRightX',\n",
    "    'PedBottomRightY'\n",
    "]\n",
    "\n",
    "df = pd.read_csv (r'./Dataset.csv', usecols=fields)"
   ]
  },
  {
   "cell_type": "code",
   "execution_count": 15,
   "metadata": {},
   "outputs": [
    {
     "name": "stdout",
     "output_type": "stream",
     "text": [
      "      Distance  PedTopLeftX  PedTopLeftY  PedTopRightX  PedTopRightY  \\\n",
      "0    13.659012         1480          519          1542           519   \n",
      "1    19.537920          382          625           447           625   \n",
      "2     6.014757          796          558           955           558   \n",
      "3    12.382139         1408          481          1505           481   \n",
      "4    19.352587          884          543           933           543   \n",
      "..         ...          ...          ...           ...           ...   \n",
      "145   6.513113          532          524           687           524   \n",
      "146   6.634655          493          528           650           528   \n",
      "147  15.349739         1049          518          1099           518   \n",
      "148  18.069414          711          508           766           508   \n",
      "149  17.966396          937          511           989           511   \n",
      "\n",
      "     PedBottomLeftX  PedBottomLeftY  PedBottomRightX  PedBottomRightY  \n",
      "0              1480             706             1542              706  \n",
      "1               382             763              447              763  \n",
      "2               796             978              955              978  \n",
      "3              1408             684             1505              684  \n",
      "4               884             664              933              664  \n",
      "..              ...             ...              ...              ...  \n",
      "145             532             919              687              919  \n",
      "146             493             908              650              908  \n",
      "147            1049             668             1099              668  \n",
      "148             711             639              766              639  \n",
      "149             937             640              989              640  \n",
      "\n",
      "[150 rows x 9 columns]\n"
     ]
    }
   ],
   "source": [
    "print(df)"
   ]
  },
  {
   "cell_type": "markdown",
   "metadata": {},
   "source": [
    "### Parsing raw dataset data"
   ]
  },
  {
   "cell_type": "code",
   "execution_count": null,
   "metadata": {},
   "outputs": [],
   "source": [
    "target = df.Distance\n",
    "print(Distance)"
   ]
  },
  {
   "cell_type": "code",
   "execution_count": 16,
   "metadata": {},
   "outputs": [
    {
     "name": "stdout",
     "output_type": "stream",
     "text": [
      "0       [62.0, 187.0]\n",
      "1       [65.0, 138.0]\n",
      "2      [159.0, 420.0]\n",
      "3       [97.0, 203.0]\n",
      "4       [49.0, 121.0]\n",
      "            ...      \n",
      "145    [155.0, 395.0]\n",
      "146    [157.0, 380.0]\n",
      "147     [50.0, 150.0]\n",
      "148     [55.0, 131.0]\n",
      "149     [52.0, 129.0]\n",
      "Length: 150, dtype: object\n"
     ]
    }
   ],
   "source": [
    "data = df.apply(lambda el : [abs(el.PedTopRightX - el.PedTopLeftX), abs(el.PedBottomLeftY - el.PedTopLeftY)], axis=1)\n",
    "print(champ)"
   ]
  },
  {
   "cell_type": "code",
   "execution_count": null,
   "metadata": {},
   "outputs": [],
   "source": [
    "class LinearRegressor(nn.Module):\n",
    "    def __init__(self, in_size, out_size):\n",
    "        super(LinearRegressor, self).__init__()\n",
    "        self.linear = nn.Linear(in_size,out_size)\n",
    "    \n",
    "    def forward(self,x):\n",
    "        result = self.linear(x)\n",
    "        return result"
   ]
  },
  {
   "cell_type": "code",
   "execution_count": null,
   "metadata": {},
   "outputs": [],
   "source": [
    "lr = 0.001\n",
    "#facciamo training per 5000 epoche in modo da verificare che\n",
    "#tensorboard viene aggiornato in tempo reale\n",
    "epochs = 5000\n",
    "\n",
    "writer = SummaryWriter('logs/linear_regressor_lr0001');\n",
    "\n",
    "#normalizzazione dei dati\n",
    "means = X_training.mean(0)\n",
    "stds = X_training.std(0)\n",
    "\n",
    "X_training_norm = (X_training-means)/stds\n",
    "X_testing_norm = (X_testing-means)/stds\n",
    "\n",
    "reg = LinearRegressor(13,1)\n",
    "criterion = nn.MSELoss()\n",
    "\n",
    "optimizer = torch.optim.SGD(reg.parameters(),lr=lr)\n",
    "\n",
    "for e in range(epochs):\n",
    "    reg.train()\n",
    "    output = reg(X_training_norm)\n",
    "    l = criterion(output.view(-1),Y_training)\n",
    "\n",
    "    writer.add_scalar('loss/train', l.item(), global_step=e)\n",
    "    \n",
    "    l.backward()\n",
    "    \n",
    "    optimizer.step()    \n",
    "    optimizer.zero_grad()\n",
    "    \n",
    "    reg.eval()\n",
    " \n",
    "    with torch.set_grad_enabled(False):\n",
    "        y_test = reg(X_testing_norm)\n",
    "        l = criterion(y_test.view(-1),Y_testing)\n",
    "        writer.add_scalar('loss/test', l.item(), global_step=e)"
   ]
  }
 ],
 "metadata": {
  "kernelspec": {
   "display_name": "Python 3",
   "language": "python",
   "name": "python3"
  },
  "language_info": {
   "codemirror_mode": {
    "name": "ipython",
    "version": 3
   },
   "file_extension": ".py",
   "mimetype": "text/x-python",
   "name": "python",
   "nbconvert_exporter": "python",
   "pygments_lexer": "ipython3",
   "version": "3.8.5"
  }
 },
 "nbformat": 4,
 "nbformat_minor": 4
}
