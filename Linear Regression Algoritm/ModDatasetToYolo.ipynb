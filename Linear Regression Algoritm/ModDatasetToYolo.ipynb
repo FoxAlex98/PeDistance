{
 "cells": [
  {
   "cell_type": "markdown",
   "metadata": {},
   "source": [
    "## Parsing Mod dataset to YOLOv5 extracted feature"
   ]
  },
  {
   "cell_type": "code",
   "execution_count": 1,
   "metadata": {},
   "outputs": [
    {
     "name": "stderr",
     "output_type": "stream",
     "text": [
      "Using cache found in C:\\Users\\danil/.cache\\torch\\hub\\ultralytics_yolov5_master\n",
      "Fusing layers... \n",
      "Model Summary: 224 layers, 7266973 parameters, 0 gradients\n",
      "Adding AutoShape... \n",
      "YOLOv5  2021-6-21 torch 1.8.0 CUDA:0 (NVIDIA GeForce RTX 2060, 6144.0MB)\n",
      "\n"
     ]
    }
   ],
   "source": [
    "# Utilities\n",
    "\n",
    "import numpy as np\n",
    "import torch\n",
    "import pandas as pd\n",
    "import base64\n",
    "from PIL import Image\n",
    "import io\n",
    "\n",
    "def base64toPilImage(im_b64):\n",
    "    im_bytes = base64.b64decode(im_b64)   # im_bytes is a binary image\n",
    "    im_file = io.BytesIO(im_bytes)  # convert image to file-like object\n",
    "    return Image.open(im_file).convert(\"RGB\")   # img is now PIL Image object\n",
    "\n",
    "# Model\n",
    "model = torch.hub.load('ultralytics/yolov5', 'yolov5s', pretrained=True)"
   ]
  },
  {
   "cell_type": "markdown",
   "metadata": {},
   "source": [
    "### Import Dataset"
   ]
  },
  {
   "cell_type": "code",
   "execution_count": 5,
   "metadata": {},
   "outputs": [
    {
     "name": "stdout",
     "output_type": "stream",
     "text": [
      "(10022, 6)\n"
     ]
    }
   ],
   "source": [
    "# Filtered fields read from dataset csv file\n",
    "fields = [\n",
    "    'Distance',\n",
    "    'PedTopRightX', \n",
    "    'PedTopRightY',\n",
    "    'PedBottomLeftX', \n",
    "    'PedBottomLeftY',\n",
    "    'B64File'\n",
    "]\n",
    "\n",
    "df = pd.read_csv (r'./Dataset.csv', usecols=fields)\n",
    "print(df.shape)"
   ]
  },
  {
   "cell_type": "markdown",
   "metadata": {},
   "source": [
    "### Parsing Dataset"
   ]
  },
  {
   "cell_type": "code",
   "execution_count": 6,
   "metadata": {},
   "outputs": [
    {
     "name": "stdout",
     "output_type": "stream",
     "text": [
      "(4382, 6)\n"
     ]
    }
   ],
   "source": [
    "yoloNumpy = []\n",
    "# Images\n",
    "for index in df.index:   \n",
    "    img = base64toPilImage(df.B64File[index])\n",
    "    # Inference\n",
    "    results = model(img)\n",
    "    obj_recognized = results.xyxy[0].cpu().numpy()\n",
    "    for obj in obj_recognized:\n",
    "        if obj[5] == 0:\n",
    "            yoloNumpy.append([df.Distance[index], obj[0], obj[1], obj[2], obj[3], df.B64File[index]])          \n",
    "\n",
    "yoloDataframe = pd.DataFrame(yoloNumpy, columns = [ 'Distance', 'Xmin', 'Ymin', 'Xmax', 'Ymax', 'B64File'])\n",
    "yoloDataframe.to_csv('yoloDataset.csv', index=False)\n",
    "print(yoloDataframe.shape)"
   ]
  },
  {
   "cell_type": "code",
   "execution_count": null,
   "metadata": {},
   "outputs": [],
   "source": []
  }
 ],
 "metadata": {
  "kernelspec": {
   "display_name": "Python 3",
   "language": "python",
   "name": "python3"
  },
  "language_info": {
   "codemirror_mode": {
    "name": "ipython",
    "version": 3
   },
   "file_extension": ".py",
   "mimetype": "text/x-python",
   "name": "python",
   "nbconvert_exporter": "python",
   "pygments_lexer": "ipython3",
   "version": "3.8.5"
  }
 },
 "nbformat": 4,
 "nbformat_minor": 4
}
